{
 "cells": [
  {
   "cell_type": "code",
   "execution_count": 2,
   "id": "795af398",
   "metadata": {},
   "outputs": [
    {
     "name": "stdout",
     "output_type": "stream",
     "text": [
      "Average size: 533\n"
     ]
    }
   ],
   "source": [
    "import os\n",
    "from PIL import Image\n",
    "\n",
    "dir_path = 'codes/workspace/images/plates/'\n",
    "\n",
    "sizes = []\n",
    "\n",
    "for filename in os.listdir(dir_path):\n",
    "    if filename.endswith('.jpg'):\n",
    "        img = Image.open(os.path.join(dir_path, filename))\n",
    "        width, height = img.size\n",
    "        size = (width + height) // 2\n",
    "        sizes.append(size)\n",
    "\n",
    "avg_size = sum(sizes) // len(sizes)\n",
    "\n",
    "for filename in os.listdir(dir_path):\n",
    "    if filename.endswith('.jpg'):\n",
    "        img = Image.open(os.path.join(dir_path, filename))\n",
    "        name, ext = os.path.splitext(filename)\n",
    "        new = img.resize((avg_size, avg_size))\n",
    "        new.save(os.path.join(dir_path, f\"{name}{ext}\"))\n",
    "\n",
    "print(f'Average size: {avg_size}')"
   ]
  },
  {
   "cell_type": "code",
   "execution_count": null,
   "id": "b61e5587",
   "metadata": {},
   "outputs": [],
   "source": []
  }
 ],
 "metadata": {
  "kernelspec": {
   "display_name": "Newenv",
   "language": "python",
   "name": "newenv"
  },
  "language_info": {
   "codemirror_mode": {
    "name": "ipython",
    "version": 3
   },
   "file_extension": ".py",
   "mimetype": "text/x-python",
   "name": "python",
   "nbconvert_exporter": "python",
   "pygments_lexer": "ipython3",
   "version": "3.9.16"
  }
 },
 "nbformat": 4,
 "nbformat_minor": 5
}
