{
 "cells": [
  {
   "cell_type": "code",
   "execution_count": null,
   "id": "795af398",
   "metadata": {},
   "outputs": [],
   "source": [
    "import os\n",
    "from PIL import Image\n",
    "\n",
    "dir_path = 'codes/workspace/images/plates/'\n",
    "\n",
    "widths = []\n",
    "heights = []\n",
    "\n",
    "for filename in os.listdir(dir_path):\n",
    "    if filename.endswith('.jpg'):\n",
    "        img = Image.open(os.path.join(dir_path, filename))\n",
    "        width, height = img.size\n",
    "        widths.append(width)\n",
    "        heights.append(height)\n",
    "\n",
    "avg_width = sum(widths) // len(widths)\n",
    "avg_height = sum(heights) // len(heights)\n",
    "\n",
    "for filename in os.listdir(dir_path):\n",
    "    if filename.endswith('.jpg'):\n",
    "        img = Image.open(os.path.join(dir_path, filename))\n",
    "        name, ext = os.path.splitext(filename)\n",
    "        new = img.resize((avg_width,avg_height))\n",
    "        new.save(os.path.join(dir_path, f\"{name}_resized{ext}\"))\n",
    "\n",
    "print(f'Average width: {avg_width}, Average height: {avg_height}')"
   ]
  }
 ],
 "metadata": {
  "kernelspec": {
   "display_name": "Newenv",
   "language": "python",
   "name": "newenv"
  },
  "language_info": {
   "codemirror_mode": {
    "name": "ipython",
    "version": 3
   },
   "file_extension": ".py",
   "mimetype": "text/x-python",
   "name": "python",
   "nbconvert_exporter": "python",
   "pygments_lexer": "ipython3",
   "version": "3.9.16"
  }
 },
 "nbformat": 4,
 "nbformat_minor": 5
}
