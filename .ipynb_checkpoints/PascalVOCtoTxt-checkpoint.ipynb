{
 "cells": [
  {
   "cell_type": "code",
   "execution_count": null,
   "id": "e42f4a2c",
   "metadata": {},
   "outputs": [],
   "source": [
    "def to_txt(data,file_path):\n",
    "    for item in data:\n",
    "        with open(\"codes/workspace/images/plates/{}.txt\".format(file_path.name[:-4]),'w') as file:\n",
    "            box =item['boxes'][0]\n",
    "            text=item['text'][0]\n",
    "            box_str=f\"{box[0]}, {box[1]}, {box[2]}, {box[3]},\"\n",
    "            file.write(f\"{box_str} \\\"{text}\\\"\\n\")"
   ]
  },
  {
   "cell_type": "code",
   "execution_count": 66,
   "id": "625f0ec5",
   "metadata": {},
   "outputs": [],
   "source": [
    "import xml.etree.ElementTree as ET\n",
    "from pathlib import Path\n",
    "\n",
    "def load_pascal_voc_labels(image_dir, annotation_dir):\n",
    "    data = []\n",
    "    for xml_file in Path(annotation_dir).glob('*.xml'):\n",
    "        tree = ET.parse(xml_file)\n",
    "        root = tree.getroot()\n",
    "\n",
    "        file_path = image_dir / root.find('filename').text\n",
    "        boxes = []\n",
    "        texts = []\n",
    "\n",
    "        for obj in root.findall('object'):\n",
    "            bbox = obj.find('bndbox')\n",
    "            x_min = int(bbox.find('xmin').text)\n",
    "            y_min = int(bbox.find('ymin').text)\n",
    "            x_max = int(bbox.find('xmax').text)\n",
    "            y_max = int(bbox.find('ymax').text)\n",
    "\n",
    "            boxes.append((x_min, y_min, x_max, y_max))\n",
    "            texts.append(obj.find('name').text)\n",
    "\n",
    "\n",
    "        data.append({\"image\": str(file_path), \"boxes\": boxes, \"text\": texts})\n",
    "        to_txt(data,file_path)\n",
    "\n",
    "    return data\n"
   ]
  },
  {
   "cell_type": "code",
   "execution_count": 67,
   "id": "d0bc6592",
   "metadata": {},
   "outputs": [],
   "source": [
    "image_dir = Path(\"codes/workspace/images/plates/\")\n",
    "annotation_dir = Path(\"codes/workspace/images/plates/\")"
   ]
  },
  {
   "cell_type": "code",
   "execution_count": 68,
   "id": "9bc18d39",
   "metadata": {},
   "outputs": [],
   "source": [
    "data = load_pascal_voc_labels(image_dir, annotation_dir)"
   ]
  }
 ],
 "metadata": {
  "kernelspec": {
   "display_name": "Newenv",
   "language": "python",
   "name": "newenv"
  },
  "language_info": {
   "codemirror_mode": {
    "name": "ipython",
    "version": 3
   },
   "file_extension": ".py",
   "mimetype": "text/x-python",
   "name": "python",
   "nbconvert_exporter": "python",
   "pygments_lexer": "ipython3",
   "version": "3.9.16"
  }
 },
 "nbformat": 4,
 "nbformat_minor": 5
}
