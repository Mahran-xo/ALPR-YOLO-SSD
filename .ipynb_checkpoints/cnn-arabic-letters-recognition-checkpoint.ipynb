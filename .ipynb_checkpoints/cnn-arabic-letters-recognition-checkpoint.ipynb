{
 "cells": [
  {
   "cell_type": "code",
   "execution_count": 1,
   "id": "04b68746",
   "metadata": {
    "_cell_guid": "b1076dfc-b9ad-4769-8c92-a6c4dae69d19",
    "_uuid": "8f2839f25d086af736a60e9eeb907d3b93b6e0e5",
    "execution": {
     "iopub.execute_input": "2023-04-04T13:16:16.948045Z",
     "iopub.status.busy": "2023-04-04T13:16:16.947441Z",
     "iopub.status.idle": "2023-04-04T13:17:08.300397Z",
     "shell.execute_reply": "2023-04-04T13:17:08.299066Z"
    },
    "papermill": {
     "duration": 51.377122,
     "end_time": "2023-04-04T13:17:08.312397",
     "exception": false,
     "start_time": "2023-04-04T13:16:16.935275",
     "status": "completed"
    },
    "tags": []
   },
   "outputs": [],
   "source": [
    "# This Python 3 environment comes with many helpful analytics libraries installed\n",
    "# It is defined by the kaggle/python Docker image: https://github.com/kaggle/docker-python\n",
    "# For example, here's several helpful packages to load\n",
    "\n",
    "import numpy as np # linear algebra\n",
    "import pandas as pd # data processing, CSV file I/O (e.g. pd.read_csv)\n",
    "\n",
    "# Input data files are available in the read-only \"../input/\" directory\n",
    "# For example, running this (by clicking run or pressing Shift+Enter) will list all files under the input directory\n",
    "\n",
    "import os\n",
    "# for dirname, _, filenames in os.walk('/kaggle/input'):\n",
    "#     for filename in filenames:\n",
    "#         print(os.path.join(dirname, filename))\n",
    "\n",
    "# You can write up to 20GB to the current directory (/kaggle/working/) that gets preserved as output when you create a version using \"Save & Run All\" \n",
    "# You can also write temporary files to /kaggle/temp/, but they won't be saved outside of the current session"
   ]
  },
  {
   "cell_type": "code",
   "execution_count": 2,
   "id": "509b68d7",
   "metadata": {
    "execution": {
     "iopub.execute_input": "2023-04-04T13:17:08.436170Z",
     "iopub.status.busy": "2023-04-04T13:17:08.435295Z",
     "iopub.status.idle": "2023-04-04T13:17:10.810319Z",
     "shell.execute_reply": "2023-04-04T13:17:10.808953Z"
    },
    "papermill": {
     "duration": 2.435865,
     "end_time": "2023-04-04T13:17:10.813114",
     "exception": false,
     "start_time": "2023-04-04T13:17:08.377249",
     "status": "completed"
    },
    "tags": []
   },
   "outputs": [],
   "source": [
    "label_heldOut=pd.read_csv(\"codes/workspace//csvTestLabel 3360x1.csv\", header=None)\n",
    "label_dev=pd.read_csv(\"/kaggle/input/ahcd1/csvTrainLabel 13440x1.csv\", header=None)\n",
    "dev=pd.read_csv(\"/kaggle/input/ahcd1/csvTrainImages 13440x1024.csv\", header=None)\n",
    "heldOut=pd.read_csv(\"/kaggle/input/ahcd1/csvTestImages 3360x1024.csv\", header=None)"
   ]
  },
  {
   "cell_type": "code",
   "execution_count": 3,
   "id": "f234f73c",
   "metadata": {
    "execution": {
     "iopub.execute_input": "2023-04-04T13:17:10.935682Z",
     "iopub.status.busy": "2023-04-04T13:17:10.935214Z",
     "iopub.status.idle": "2023-04-04T13:17:10.940262Z",
     "shell.execute_reply": "2023-04-04T13:17:10.939123Z"
    },
    "papermill": {
     "duration": 0.069875,
     "end_time": "2023-04-04T13:17:10.942934",
     "exception": false,
     "start_time": "2023-04-04T13:17:10.873059",
     "status": "completed"
    },
    "tags": []
   },
   "outputs": [],
   "source": [
    "import matplotlib.pyplot as plt"
   ]
  },
  {
   "cell_type": "code",
   "execution_count": 4,
   "id": "29149b0e",
   "metadata": {
    "execution": {
     "iopub.execute_input": "2023-04-04T13:17:11.064647Z",
     "iopub.status.busy": "2023-04-04T13:17:11.064208Z",
     "iopub.status.idle": "2023-04-04T13:17:11.099791Z",
     "shell.execute_reply": "2023-04-04T13:17:11.098446Z"
    },
    "papermill": {
     "duration": 0.100445,
     "end_time": "2023-04-04T13:17:11.102771",
     "exception": false,
     "start_time": "2023-04-04T13:17:11.002326",
     "status": "completed"
    },
    "tags": []
   },
   "outputs": [
    {
     "data": {
      "text/html": [
       "<div>\n",
       "<style scoped>\n",
       "    .dataframe tbody tr th:only-of-type {\n",
       "        vertical-align: middle;\n",
       "    }\n",
       "\n",
       "    .dataframe tbody tr th {\n",
       "        vertical-align: top;\n",
       "    }\n",
       "\n",
       "    .dataframe thead th {\n",
       "        text-align: right;\n",
       "    }\n",
       "</style>\n",
       "<table border=\"1\" class=\"dataframe\">\n",
       "  <thead>\n",
       "    <tr style=\"text-align: right;\">\n",
       "      <th></th>\n",
       "      <th>0</th>\n",
       "      <th>1</th>\n",
       "      <th>2</th>\n",
       "      <th>3</th>\n",
       "      <th>4</th>\n",
       "      <th>5</th>\n",
       "      <th>6</th>\n",
       "      <th>7</th>\n",
       "      <th>8</th>\n",
       "      <th>9</th>\n",
       "      <th>...</th>\n",
       "      <th>1014</th>\n",
       "      <th>1015</th>\n",
       "      <th>1016</th>\n",
       "      <th>1017</th>\n",
       "      <th>1018</th>\n",
       "      <th>1019</th>\n",
       "      <th>1020</th>\n",
       "      <th>1021</th>\n",
       "      <th>1022</th>\n",
       "      <th>1023</th>\n",
       "    </tr>\n",
       "  </thead>\n",
       "  <tbody>\n",
       "    <tr>\n",
       "      <th>0</th>\n",
       "      <td>0</td>\n",
       "      <td>0</td>\n",
       "      <td>0</td>\n",
       "      <td>0</td>\n",
       "      <td>0</td>\n",
       "      <td>0</td>\n",
       "      <td>0</td>\n",
       "      <td>0</td>\n",
       "      <td>0</td>\n",
       "      <td>0</td>\n",
       "      <td>...</td>\n",
       "      <td>0</td>\n",
       "      <td>0</td>\n",
       "      <td>0</td>\n",
       "      <td>0</td>\n",
       "      <td>0</td>\n",
       "      <td>0</td>\n",
       "      <td>0</td>\n",
       "      <td>0</td>\n",
       "      <td>0</td>\n",
       "      <td>0</td>\n",
       "    </tr>\n",
       "    <tr>\n",
       "      <th>1</th>\n",
       "      <td>0</td>\n",
       "      <td>0</td>\n",
       "      <td>0</td>\n",
       "      <td>0</td>\n",
       "      <td>0</td>\n",
       "      <td>0</td>\n",
       "      <td>0</td>\n",
       "      <td>0</td>\n",
       "      <td>0</td>\n",
       "      <td>0</td>\n",
       "      <td>...</td>\n",
       "      <td>0</td>\n",
       "      <td>0</td>\n",
       "      <td>0</td>\n",
       "      <td>0</td>\n",
       "      <td>0</td>\n",
       "      <td>0</td>\n",
       "      <td>0</td>\n",
       "      <td>0</td>\n",
       "      <td>0</td>\n",
       "      <td>0</td>\n",
       "    </tr>\n",
       "    <tr>\n",
       "      <th>2</th>\n",
       "      <td>0</td>\n",
       "      <td>0</td>\n",
       "      <td>0</td>\n",
       "      <td>0</td>\n",
       "      <td>0</td>\n",
       "      <td>0</td>\n",
       "      <td>0</td>\n",
       "      <td>0</td>\n",
       "      <td>0</td>\n",
       "      <td>0</td>\n",
       "      <td>...</td>\n",
       "      <td>0</td>\n",
       "      <td>0</td>\n",
       "      <td>0</td>\n",
       "      <td>0</td>\n",
       "      <td>0</td>\n",
       "      <td>0</td>\n",
       "      <td>0</td>\n",
       "      <td>0</td>\n",
       "      <td>0</td>\n",
       "      <td>0</td>\n",
       "    </tr>\n",
       "    <tr>\n",
       "      <th>3</th>\n",
       "      <td>0</td>\n",
       "      <td>0</td>\n",
       "      <td>0</td>\n",
       "      <td>0</td>\n",
       "      <td>0</td>\n",
       "      <td>0</td>\n",
       "      <td>0</td>\n",
       "      <td>0</td>\n",
       "      <td>0</td>\n",
       "      <td>0</td>\n",
       "      <td>...</td>\n",
       "      <td>0</td>\n",
       "      <td>0</td>\n",
       "      <td>0</td>\n",
       "      <td>0</td>\n",
       "      <td>0</td>\n",
       "      <td>0</td>\n",
       "      <td>0</td>\n",
       "      <td>0</td>\n",
       "      <td>0</td>\n",
       "      <td>0</td>\n",
       "    </tr>\n",
       "    <tr>\n",
       "      <th>4</th>\n",
       "      <td>0</td>\n",
       "      <td>0</td>\n",
       "      <td>0</td>\n",
       "      <td>0</td>\n",
       "      <td>0</td>\n",
       "      <td>0</td>\n",
       "      <td>0</td>\n",
       "      <td>0</td>\n",
       "      <td>0</td>\n",
       "      <td>0</td>\n",
       "      <td>...</td>\n",
       "      <td>0</td>\n",
       "      <td>0</td>\n",
       "      <td>0</td>\n",
       "      <td>0</td>\n",
       "      <td>0</td>\n",
       "      <td>0</td>\n",
       "      <td>0</td>\n",
       "      <td>0</td>\n",
       "      <td>0</td>\n",
       "      <td>0</td>\n",
       "    </tr>\n",
       "  </tbody>\n",
       "</table>\n",
       "<p>5 rows × 1024 columns</p>\n",
       "</div>"
      ],
      "text/plain": [
       "   0     1     2     3     4     5     6     7     8     9     ...  1014  \\\n",
       "0     0     0     0     0     0     0     0     0     0     0  ...     0   \n",
       "1     0     0     0     0     0     0     0     0     0     0  ...     0   \n",
       "2     0     0     0     0     0     0     0     0     0     0  ...     0   \n",
       "3     0     0     0     0     0     0     0     0     0     0  ...     0   \n",
       "4     0     0     0     0     0     0     0     0     0     0  ...     0   \n",
       "\n",
       "   1015  1016  1017  1018  1019  1020  1021  1022  1023  \n",
       "0     0     0     0     0     0     0     0     0     0  \n",
       "1     0     0     0     0     0     0     0     0     0  \n",
       "2     0     0     0     0     0     0     0     0     0  \n",
       "3     0     0     0     0     0     0     0     0     0  \n",
       "4     0     0     0     0     0     0     0     0     0  \n",
       "\n",
       "[5 rows x 1024 columns]"
      ]
     },
     "execution_count": 4,
     "metadata": {},
     "output_type": "execute_result"
    }
   ],
   "source": [
    "dev.head()"
   ]
  },
  {
   "cell_type": "code",
   "execution_count": 5,
   "id": "bf2d9d13",
   "metadata": {
    "execution": {
     "iopub.execute_input": "2023-04-04T13:17:11.226825Z",
     "iopub.status.busy": "2023-04-04T13:17:11.225457Z",
     "iopub.status.idle": "2023-04-04T13:17:11.235630Z",
     "shell.execute_reply": "2023-04-04T13:17:11.234569Z"
    },
    "papermill": {
     "duration": 0.074927,
     "end_time": "2023-04-04T13:17:11.238164",
     "exception": false,
     "start_time": "2023-04-04T13:17:11.163237",
     "status": "completed"
    },
    "tags": []
   },
   "outputs": [
    {
     "data": {
      "text/html": [
       "<div>\n",
       "<style scoped>\n",
       "    .dataframe tbody tr th:only-of-type {\n",
       "        vertical-align: middle;\n",
       "    }\n",
       "\n",
       "    .dataframe tbody tr th {\n",
       "        vertical-align: top;\n",
       "    }\n",
       "\n",
       "    .dataframe thead th {\n",
       "        text-align: right;\n",
       "    }\n",
       "</style>\n",
       "<table border=\"1\" class=\"dataframe\">\n",
       "  <thead>\n",
       "    <tr style=\"text-align: right;\">\n",
       "      <th></th>\n",
       "      <th>0</th>\n",
       "    </tr>\n",
       "  </thead>\n",
       "  <tbody>\n",
       "    <tr>\n",
       "      <th>0</th>\n",
       "      <td>1</td>\n",
       "    </tr>\n",
       "    <tr>\n",
       "      <th>1</th>\n",
       "      <td>1</td>\n",
       "    </tr>\n",
       "    <tr>\n",
       "      <th>2</th>\n",
       "      <td>1</td>\n",
       "    </tr>\n",
       "    <tr>\n",
       "      <th>3</th>\n",
       "      <td>1</td>\n",
       "    </tr>\n",
       "    <tr>\n",
       "      <th>4</th>\n",
       "      <td>1</td>\n",
       "    </tr>\n",
       "  </tbody>\n",
       "</table>\n",
       "</div>"
      ],
      "text/plain": [
       "   0\n",
       "0  1\n",
       "1  1\n",
       "2  1\n",
       "3  1\n",
       "4  1"
      ]
     },
     "execution_count": 5,
     "metadata": {},
     "output_type": "execute_result"
    }
   ],
   "source": [
    "label_dev.head()"
   ]
  },
  {
   "cell_type": "code",
   "execution_count": 6,
   "id": "59d32024",
   "metadata": {
    "execution": {
     "iopub.execute_input": "2023-04-04T13:17:11.358116Z",
     "iopub.status.busy": "2023-04-04T13:17:11.357712Z",
     "iopub.status.idle": "2023-04-04T13:17:11.369573Z",
     "shell.execute_reply": "2023-04-04T13:17:11.368069Z"
    },
    "papermill": {
     "duration": 0.073712,
     "end_time": "2023-04-04T13:17:11.372799",
     "exception": false,
     "start_time": "2023-04-04T13:17:11.299087",
     "status": "completed"
    },
    "tags": []
   },
   "outputs": [
    {
     "data": {
      "text/html": [
       "<div>\n",
       "<style scoped>\n",
       "    .dataframe tbody tr th:only-of-type {\n",
       "        vertical-align: middle;\n",
       "    }\n",
       "\n",
       "    .dataframe tbody tr th {\n",
       "        vertical-align: top;\n",
       "    }\n",
       "\n",
       "    .dataframe thead th {\n",
       "        text-align: right;\n",
       "    }\n",
       "</style>\n",
       "<table border=\"1\" class=\"dataframe\">\n",
       "  <thead>\n",
       "    <tr style=\"text-align: right;\">\n",
       "      <th></th>\n",
       "      <th>0</th>\n",
       "    </tr>\n",
       "  </thead>\n",
       "  <tbody>\n",
       "    <tr>\n",
       "      <th>13435</th>\n",
       "      <td>28</td>\n",
       "    </tr>\n",
       "    <tr>\n",
       "      <th>13436</th>\n",
       "      <td>28</td>\n",
       "    </tr>\n",
       "    <tr>\n",
       "      <th>13437</th>\n",
       "      <td>28</td>\n",
       "    </tr>\n",
       "    <tr>\n",
       "      <th>13438</th>\n",
       "      <td>28</td>\n",
       "    </tr>\n",
       "    <tr>\n",
       "      <th>13439</th>\n",
       "      <td>28</td>\n",
       "    </tr>\n",
       "  </tbody>\n",
       "</table>\n",
       "</div>"
      ],
      "text/plain": [
       "        0\n",
       "13435  28\n",
       "13436  28\n",
       "13437  28\n",
       "13438  28\n",
       "13439  28"
      ]
     },
     "execution_count": 6,
     "metadata": {},
     "output_type": "execute_result"
    }
   ],
   "source": [
    "label_dev.tail()"
   ]
  },
  {
   "cell_type": "code",
   "execution_count": 7,
   "id": "68618919",
   "metadata": {
    "execution": {
     "iopub.execute_input": "2023-04-04T13:17:11.492762Z",
     "iopub.status.busy": "2023-04-04T13:17:11.491554Z",
     "iopub.status.idle": "2023-04-04T13:17:11.499350Z",
     "shell.execute_reply": "2023-04-04T13:17:11.497511Z"
    },
    "papermill": {
     "duration": 0.072952,
     "end_time": "2023-04-04T13:17:11.502700",
     "exception": false,
     "start_time": "2023-04-04T13:17:11.429748",
     "status": "completed"
    },
    "tags": []
   },
   "outputs": [
    {
     "name": "stdout",
     "output_type": "stream",
     "text": [
      "(13440, 1024)\n",
      "(3360, 1024)\n",
      "(13440, 1)\n",
      "(3360, 1)\n"
     ]
    }
   ],
   "source": [
    "print(dev.shape)\n",
    "print(heldOut.shape)\n",
    "print(label_dev.shape)\n",
    "print(label_heldOut.shape)"
   ]
  },
  {
   "cell_type": "code",
   "execution_count": 8,
   "id": "fe00daea",
   "metadata": {
    "execution": {
     "iopub.execute_input": "2023-04-04T13:17:11.624102Z",
     "iopub.status.busy": "2023-04-04T13:17:11.623413Z",
     "iopub.status.idle": "2023-04-04T13:17:11.631754Z",
     "shell.execute_reply": "2023-04-04T13:17:11.629788Z"
    },
    "papermill": {
     "duration": 0.073133,
     "end_time": "2023-04-04T13:17:11.634520",
     "exception": false,
     "start_time": "2023-04-04T13:17:11.561387",
     "status": "completed"
    },
    "tags": []
   },
   "outputs": [
    {
     "name": "stdout",
     "output_type": "stream",
     "text": [
      "13440\n",
      "3360\n"
     ]
    }
   ],
   "source": [
    "n_letters_dev=dev.shape[0]\n",
    "n_letters_heldOut=heldOut.shape[0]\n",
    "print(n_letters_dev)\n",
    "print(n_letters_heldOut)"
   ]
  },
  {
   "cell_type": "code",
   "execution_count": 9,
   "id": "6bd47164",
   "metadata": {
    "execution": {
     "iopub.execute_input": "2023-04-04T13:17:11.759263Z",
     "iopub.status.busy": "2023-04-04T13:17:11.758410Z",
     "iopub.status.idle": "2023-04-04T13:17:11.764772Z",
     "shell.execute_reply": "2023-04-04T13:17:11.763316Z"
    },
    "papermill": {
     "duration": 0.072768,
     "end_time": "2023-04-04T13:17:11.767913",
     "exception": false,
     "start_time": "2023-04-04T13:17:11.695145",
     "status": "completed"
    },
    "tags": []
   },
   "outputs": [],
   "source": [
    "y_dev=np.array(label_dev)\n",
    "y_held=np.array(label_heldOut)"
   ]
  },
  {
   "cell_type": "code",
   "execution_count": 10,
   "id": "ca33b094",
   "metadata": {
    "execution": {
     "iopub.execute_input": "2023-04-04T13:17:11.886713Z",
     "iopub.status.busy": "2023-04-04T13:17:11.886301Z",
     "iopub.status.idle": "2023-04-04T13:17:11.892070Z",
     "shell.execute_reply": "2023-04-04T13:17:11.890798Z"
    },
    "papermill": {
     "duration": 0.068481,
     "end_time": "2023-04-04T13:17:11.894521",
     "exception": false,
     "start_time": "2023-04-04T13:17:11.826040",
     "status": "completed"
    },
    "tags": []
   },
   "outputs": [],
   "source": [
    "X=dev.values\n",
    "X_held=heldOut.values"
   ]
  },
  {
   "cell_type": "code",
   "execution_count": 11,
   "id": "831fe3e8",
   "metadata": {
    "execution": {
     "iopub.execute_input": "2023-04-04T13:17:12.012871Z",
     "iopub.status.busy": "2023-04-04T13:17:12.012158Z",
     "iopub.status.idle": "2023-04-04T13:17:12.018254Z",
     "shell.execute_reply": "2023-04-04T13:17:12.016915Z"
    },
    "papermill": {
     "duration": 0.067778,
     "end_time": "2023-04-04T13:17:12.020751",
     "exception": false,
     "start_time": "2023-04-04T13:17:11.952973",
     "status": "completed"
    },
    "tags": []
   },
   "outputs": [],
   "source": [
    "x=X.reshape(n_letters_dev, 32, 32)\n",
    "x_held=X_held.reshape(n_letters_heldOut, 32, 32)"
   ]
  },
  {
   "cell_type": "code",
   "execution_count": 12,
   "id": "667d3f1d",
   "metadata": {
    "execution": {
     "iopub.execute_input": "2023-04-04T13:17:12.159817Z",
     "iopub.status.busy": "2023-04-04T13:17:12.158697Z",
     "iopub.status.idle": "2023-04-04T13:17:12.426869Z",
     "shell.execute_reply": "2023-04-04T13:17:12.425329Z"
    },
    "papermill": {
     "duration": 0.347239,
     "end_time": "2023-04-04T13:17:12.429727",
     "exception": false,
     "start_time": "2023-04-04T13:17:12.082488",
     "status": "completed"
    },
    "tags": []
   },
   "outputs": [
    {
     "data": {
      "image/png": "[encoded data removed]",
      "text/plain": [
       "<Figure size 600x600 with 1 Axes>"
      ]
     },
     "metadata": {},
     "output_type": "display_data"
    }
   ],
   "source": [
    "idx_imagen = np.random.randint(0,n_letters_dev)\n",
    "plt.figure(figsize = (6,6))\n",
    "plt.title(\"It's character \" + str(y_dev[idx_imagen, 0]))\n",
    "img=x[idx_imagen, :, :]\n",
    "\n",
    "plt.imshow(img.T)\n",
    "plt.show()"
   ]
  },
  {
   "cell_type": "code",
   "execution_count": 13,
   "id": "3582ec0d",
   "metadata": {
    "execution": {
     "iopub.execute_input": "2023-04-04T13:17:12.550308Z",
     "iopub.status.busy": "2023-04-04T13:17:12.548921Z",
     "iopub.status.idle": "2023-04-04T13:17:21.227240Z",
     "shell.execute_reply": "2023-04-04T13:17:21.226153Z"
    },
    "papermill": {
     "duration": 8.741253,
     "end_time": "2023-04-04T13:17:21.230020",
     "exception": false,
     "start_time": "2023-04-04T13:17:12.488767",
     "status": "completed"
    },
    "tags": []
   },
   "outputs": [],
   "source": [
    "import keras"
   ]
  },
  {
   "cell_type": "code",
   "execution_count": 14,
   "id": "e9eb7801",
   "metadata": {
    "execution": {
     "iopub.execute_input": "2023-04-04T13:17:21.354241Z",
     "iopub.status.busy": "2023-04-04T13:17:21.353116Z",
     "iopub.status.idle": "2023-04-04T13:17:21.359963Z",
     "shell.execute_reply": "2023-04-04T13:17:21.358448Z"
    },
    "papermill": {
     "duration": 0.072351,
     "end_time": "2023-04-04T13:17:21.362582",
     "exception": false,
     "start_time": "2023-04-04T13:17:21.290231",
     "status": "completed"
    },
    "tags": []
   },
   "outputs": [],
   "source": [
    "from keras.utils import to_categorical"
   ]
  },
  {
   "cell_type": "code",
   "execution_count": 15,
   "id": "bd3d48a0",
   "metadata": {
    "execution": {
     "iopub.execute_input": "2023-04-04T13:17:21.480660Z",
     "iopub.status.busy": "2023-04-04T13:17:21.479553Z",
     "iopub.status.idle": "2023-04-04T13:17:21.488041Z",
     "shell.execute_reply": "2023-04-04T13:17:21.486517Z"
    },
    "papermill": {
     "duration": 0.070734,
     "end_time": "2023-04-04T13:17:21.490623",
     "exception": false,
     "start_time": "2023-04-04T13:17:21.419889",
     "status": "completed"
    },
    "tags": []
   },
   "outputs": [
    {
     "name": "stdout",
     "output_type": "stream",
     "text": [
      "(13440, 29)\n"
     ]
    }
   ],
   "source": [
    "y=to_categorical(label_dev)\n",
    "print(y.shape)"
   ]
  },
  {
   "cell_type": "code",
   "execution_count": 16,
   "id": "abea94c4",
   "metadata": {
    "execution": {
     "iopub.execute_input": "2023-04-04T13:17:21.608868Z",
     "iopub.status.busy": "2023-04-04T13:17:21.607746Z",
     "iopub.status.idle": "2023-04-04T13:17:22.546079Z",
     "shell.execute_reply": "2023-04-04T13:17:22.544827Z"
    },
    "papermill": {
     "duration": 1.001587,
     "end_time": "2023-04-04T13:17:22.549268",
     "exception": false,
     "start_time": "2023-04-04T13:17:21.547681",
     "status": "completed"
    },
    "tags": []
   },
   "outputs": [],
   "source": [
    "from sklearn.model_selection import train_test_split"
   ]
  },
  {
   "cell_type": "code",
   "execution_count": 17,
   "id": "2962fa16",
   "metadata": {
    "execution": {
     "iopub.execute_input": "2023-04-04T13:17:22.668569Z",
     "iopub.status.busy": "2023-04-04T13:17:22.667421Z",
     "iopub.status.idle": "2023-04-04T13:17:23.165397Z",
     "shell.execute_reply": "2023-04-04T13:17:23.163848Z"
    },
    "papermill": {
     "duration": 0.560617,
     "end_time": "2023-04-04T13:17:23.168595",
     "exception": false,
     "start_time": "2023-04-04T13:17:22.607978",
     "status": "completed"
    },
    "tags": []
   },
   "outputs": [],
   "source": [
    "x_train, x_test, y_train, y_test=train_test_split(x, y, test_size=0.2, random_state=42, stratify=y)"
   ]
  },
  {
   "cell_type": "code",
   "execution_count": 18,
   "id": "a0dce4fc",
   "metadata": {
    "execution": {
     "iopub.execute_input": "2023-04-04T13:17:23.289318Z",
     "iopub.status.busy": "2023-04-04T13:17:23.288893Z",
     "iopub.status.idle": "2023-04-04T13:17:23.296415Z",
     "shell.execute_reply": "2023-04-04T13:17:23.294732Z"
    },
    "papermill": {
     "duration": 0.071575,
     "end_time": "2023-04-04T13:17:23.299444",
     "exception": false,
     "start_time": "2023-04-04T13:17:23.227869",
     "status": "completed"
    },
    "tags": []
   },
   "outputs": [
    {
     "name": "stdout",
     "output_type": "stream",
     "text": [
      "(10752, 32, 32)\n",
      "(2688, 32, 32)\n",
      "(10752, 29)\n",
      "(2688, 29)\n"
     ]
    }
   ],
   "source": [
    "print(x_train.shape)\n",
    "print(x_test.shape)\n",
    "print(y_train.shape)\n",
    "print(y_test.shape)"
   ]
  },
  {
   "cell_type": "code",
   "execution_count": 19,
   "id": "e4f13229",
   "metadata": {
    "execution": {
     "iopub.execute_input": "2023-04-04T13:17:23.420418Z",
     "iopub.status.busy": "2023-04-04T13:17:23.420002Z",
     "iopub.status.idle": "2023-04-04T13:17:23.425414Z",
     "shell.execute_reply": "2023-04-04T13:17:23.424041Z"
    },
    "papermill": {
     "duration": 0.069685,
     "end_time": "2023-04-04T13:17:23.427967",
     "exception": false,
     "start_time": "2023-04-04T13:17:23.358282",
     "status": "completed"
    },
    "tags": []
   },
   "outputs": [],
   "source": [
    "x_train=x_train.reshape(10752, 32, 32, 1)\n",
    "x_test=x_test.reshape(2688, 32, 32, 1)"
   ]
  },
  {
   "cell_type": "code",
   "execution_count": 20,
   "id": "102e7f6b",
   "metadata": {
    "execution": {
     "iopub.execute_input": "2023-04-04T13:17:23.545042Z",
     "iopub.status.busy": "2023-04-04T13:17:23.544647Z",
     "iopub.status.idle": "2023-04-04T13:17:23.550313Z",
     "shell.execute_reply": "2023-04-04T13:17:23.548816Z"
    },
    "papermill": {
     "duration": 0.067779,
     "end_time": "2023-04-04T13:17:23.553025",
     "exception": false,
     "start_time": "2023-04-04T13:17:23.485246",
     "status": "completed"
    },
    "tags": []
   },
   "outputs": [],
   "source": [
    "from keras.models import Sequential\n",
    "from keras.layers import Conv2D, MaxPooling2D, BatchNormalization, Flatten, Dense, Dropout"
   ]
  },
  {
   "cell_type": "code",
   "execution_count": 21,
   "id": "d8ac57a6",
   "metadata": {
    "execution": {
     "iopub.execute_input": "2023-04-04T13:17:23.670799Z",
     "iopub.status.busy": "2023-04-04T13:17:23.670384Z",
     "iopub.status.idle": "2023-04-04T13:17:23.787389Z",
     "shell.execute_reply": "2023-04-04T13:17:23.786042Z"
    },
    "papermill": {
     "duration": 0.179334,
     "end_time": "2023-04-04T13:17:23.790397",
     "exception": false,
     "start_time": "2023-04-04T13:17:23.611063",
     "status": "completed"
    },
    "tags": []
   },
   "outputs": [],
   "source": [
    "modelo=Sequential()"
   ]
  },
  {
   "cell_type": "code",
   "execution_count": 22,
   "id": "9b66f7d7",
   "metadata": {
    "execution": {
     "iopub.execute_input": "2023-04-04T13:17:23.908599Z",
     "iopub.status.busy": "2023-04-04T13:17:23.907159Z",
     "iopub.status.idle": "2023-04-04T13:17:23.982909Z",
     "shell.execute_reply": "2023-04-04T13:17:23.981288Z"
    },
    "papermill": {
     "duration": 0.136738,
     "end_time": "2023-04-04T13:17:23.985773",
     "exception": false,
     "start_time": "2023-04-04T13:17:23.849035",
     "status": "completed"
    },
    "tags": []
   },
   "outputs": [],
   "source": [
    "modelo.add(Conv2D(filters=16, kernel_size=(3,3), activation='relu', input_shape=(32,32,1)))\n",
    "modelo.add(MaxPooling2D(pool_size=(2,2)))"
   ]
  },
  {
   "cell_type": "code",
   "execution_count": 23,
   "id": "e4c07a8a",
   "metadata": {
    "execution": {
     "iopub.execute_input": "2023-04-04T13:17:24.104866Z",
     "iopub.status.busy": "2023-04-04T13:17:24.103928Z",
     "iopub.status.idle": "2023-04-04T13:17:24.170957Z",
     "shell.execute_reply": "2023-04-04T13:17:24.169823Z"
    },
    "papermill": {
     "duration": 0.129767,
     "end_time": "2023-04-04T13:17:24.173994",
     "exception": false,
     "start_time": "2023-04-04T13:17:24.044227",
     "status": "completed"
    },
    "tags": []
   },
   "outputs": [],
   "source": [
    "modelo.add(BatchNormalization())\n",
    "modelo.add(Conv2D(filters=32, kernel_size=(3,3), activation='relu'))\n",
    "modelo.add(MaxPooling2D(pool_size=(2,2)))\n",
    "modelo.add(Conv2D(filters=64,kernel_size=(3,3), activation='relu'))\n",
    "modelo.add(MaxPooling2D(pool_size=(2,2)))"
   ]
  },
  {
   "cell_type": "code",
   "execution_count": 24,
   "id": "2ca8bbcd",
   "metadata": {
    "execution": {
     "iopub.execute_input": "2023-04-04T13:17:24.296202Z",
     "iopub.status.busy": "2023-04-04T13:17:24.295437Z",
     "iopub.status.idle": "2023-04-04T13:17:24.378483Z",
     "shell.execute_reply": "2023-04-04T13:17:24.377082Z"
    },
    "papermill": {
     "duration": 0.146886,
     "end_time": "2023-04-04T13:17:24.381617",
     "exception": false,
     "start_time": "2023-04-04T13:17:24.234731",
     "status": "completed"
    },
    "tags": []
   },
   "outputs": [],
   "source": [
    "modelo.add(Flatten())\n",
    "modelo.add(Dropout(0.2))\n",
    "modelo.add(Dense(512, activation='relu'))\n",
    "modelo.add(Dropout(0.2))\n",
    "modelo.add(Dense(256, activation='relu'))\n",
    "modelo.add(Dense(29, activation='softmax'))"
   ]
  },
  {
   "cell_type": "code",
   "execution_count": 25,
   "id": "5b15ce57",
   "metadata": {
    "execution": {
     "iopub.execute_input": "2023-04-04T13:17:24.501139Z",
     "iopub.status.busy": "2023-04-04T13:17:24.499671Z",
     "iopub.status.idle": "2023-04-04T13:17:24.504831Z",
     "shell.execute_reply": "2023-04-04T13:17:24.503971Z"
    },
    "papermill": {
     "duration": 0.067426,
     "end_time": "2023-04-04T13:17:24.507119",
     "exception": false,
     "start_time": "2023-04-04T13:17:24.439693",
     "status": "completed"
    },
    "tags": []
   },
   "outputs": [],
   "source": [
    "from keras.optimizers import SGD"
   ]
  },
  {
   "cell_type": "code",
   "execution_count": 26,
   "id": "5a677847",
   "metadata": {
    "execution": {
     "iopub.execute_input": "2023-04-04T13:17:24.624354Z",
     "iopub.status.busy": "2023-04-04T13:17:24.623717Z",
     "iopub.status.idle": "2023-04-04T13:17:24.847778Z",
     "shell.execute_reply": "2023-04-04T13:17:24.846436Z"
    },
    "papermill": {
     "duration": 0.286164,
     "end_time": "2023-04-04T13:17:24.850555",
     "exception": false,
     "start_time": "2023-04-04T13:17:24.564391",
     "status": "completed"
    },
    "tags": []
   },
   "outputs": [
    {
     "name": "stderr",
     "output_type": "stream",
     "text": [
      "/opt/conda/lib/python3.7/site-packages/keras/optimizers/optimizer_v2/gradient_descent.py:114: UserWarning: The `lr` argument is deprecated, use `learning_rate` instead.\n",
      "  super().__init__(name, **kwargs)\n"
     ]
    }
   ],
   "source": [
    "sgd = SGD(lr=0.1)\n",
    "modelo.compile(loss='categorical_crossentropy', optimizer=sgd, metrics=['accuracy'])"
   ]
  },
  {
   "cell_type": "code",
   "execution_count": 27,
   "id": "77ce1b37",
   "metadata": {
    "execution": {
     "iopub.execute_input": "2023-04-04T13:17:24.967651Z",
     "iopub.status.busy": "2023-04-04T13:17:24.967228Z",
     "iopub.status.idle": "2023-04-04T13:19:46.125321Z",
     "shell.execute_reply": "2023-04-04T13:19:46.123688Z"
    },
    "papermill": {
     "duration": 141.221482,
     "end_time": "2023-04-04T13:19:46.128565",
     "exception": false,
     "start_time": "2023-04-04T13:17:24.907083",
     "status": "completed"
    },
    "tags": []
   },
   "outputs": [
    {
     "name": "stdout",
     "output_type": "stream",
     "text": [
      "Epoch 1/30\n",
      "84/84 [==============================] - 6s 60ms/step - loss: 2.5757 - accuracy: 0.2314 - val_loss: 3.1183 - val_accuracy: 0.1737\n",
      "Epoch 2/30\n",
      "84/84 [==============================] - 5s 57ms/step - loss: 1.4593 - accuracy: 0.5157 - val_loss: 1.0238 - val_accuracy: 0.6555\n",
      "Epoch 3/30\n",
      "84/84 [==============================] - 5s 54ms/step - loss: 0.9494 - accuracy: 0.6688 - val_loss: 0.8696 - val_accuracy: 0.6923\n",
      "Epoch 4/30\n",
      "84/84 [==============================] - 5s 57ms/step - loss: 0.7368 - accuracy: 0.7480 - val_loss: 0.4767 - val_accuracy: 0.8389\n",
      "Epoch 5/30\n",
      "84/84 [==============================] - 5s 61ms/step - loss: 0.5608 - accuracy: 0.8064 - val_loss: 0.4597 - val_accuracy: 0.8478\n",
      "Epoch 6/30\n",
      "84/84 [==============================] - 5s 54ms/step - loss: 0.4839 - accuracy: 0.8335 - val_loss: 0.4686 - val_accuracy: 0.8460\n",
      "Epoch 7/30\n",
      "84/84 [==============================] - 5s 55ms/step - loss: 0.4134 - accuracy: 0.8584 - val_loss: 0.3405 - val_accuracy: 0.8895\n",
      "Epoch 8/30\n",
      "84/84 [==============================] - 5s 55ms/step - loss: 0.3616 - accuracy: 0.8770 - val_loss: 0.3460 - val_accuracy: 0.8865\n",
      "Epoch 9/30\n",
      "84/84 [==============================] - 5s 56ms/step - loss: 0.3144 - accuracy: 0.8935 - val_loss: 0.2564 - val_accuracy: 0.9208\n",
      "Epoch 10/30\n",
      "84/84 [==============================] - 5s 55ms/step - loss: 0.3017 - accuracy: 0.8978 - val_loss: 0.2660 - val_accuracy: 0.9118\n",
      "Epoch 11/30\n",
      "84/84 [==============================] - 5s 54ms/step - loss: 0.2463 - accuracy: 0.9173 - val_loss: 0.2683 - val_accuracy: 0.9185\n",
      "Epoch 12/30\n",
      "84/84 [==============================] - 5s 59ms/step - loss: 0.2426 - accuracy: 0.9190 - val_loss: 0.2894 - val_accuracy: 0.9089\n",
      "Epoch 13/30\n",
      "84/84 [==============================] - 5s 56ms/step - loss: 0.2149 - accuracy: 0.9243 - val_loss: 0.2266 - val_accuracy: 0.9271\n",
      "Epoch 14/30\n",
      "84/84 [==============================] - 5s 55ms/step - loss: 0.2020 - accuracy: 0.9295 - val_loss: 0.2525 - val_accuracy: 0.9178\n",
      "Epoch 15/30\n",
      "84/84 [==============================] - 5s 54ms/step - loss: 0.1847 - accuracy: 0.9361 - val_loss: 0.2791 - val_accuracy: 0.9159\n",
      "Epoch 16/30\n",
      "84/84 [==============================] - 5s 54ms/step - loss: 0.1837 - accuracy: 0.9366 - val_loss: 0.2397 - val_accuracy: 0.9237\n",
      "Epoch 17/30\n",
      "84/84 [==============================] - 4s 53ms/step - loss: 0.1641 - accuracy: 0.9433 - val_loss: 0.2204 - val_accuracy: 0.9330\n",
      "Epoch 18/30\n",
      "84/84 [==============================] - 5s 54ms/step - loss: 0.1388 - accuracy: 0.9523 - val_loss: 0.2626 - val_accuracy: 0.9252\n",
      "Epoch 19/30\n",
      "84/84 [==============================] - 5s 58ms/step - loss: 0.1396 - accuracy: 0.9528 - val_loss: 0.2614 - val_accuracy: 0.9245\n",
      "Epoch 20/30\n",
      "84/84 [==============================] - 5s 55ms/step - loss: 0.1363 - accuracy: 0.9541 - val_loss: 0.2439 - val_accuracy: 0.9278\n",
      "Epoch 21/30\n",
      "84/84 [==============================] - 5s 55ms/step - loss: 0.1191 - accuracy: 0.9605 - val_loss: 0.2364 - val_accuracy: 0.9275\n",
      "Epoch 22/30\n",
      "84/84 [==============================] - 4s 53ms/step - loss: 0.1213 - accuracy: 0.9577 - val_loss: 0.2747 - val_accuracy: 0.9219\n",
      "Epoch 23/30\n",
      "84/84 [==============================] - 5s 55ms/step - loss: 0.1185 - accuracy: 0.9574 - val_loss: 0.2294 - val_accuracy: 0.9289\n",
      "Epoch 24/30\n",
      "84/84 [==============================] - 5s 54ms/step - loss: 0.1162 - accuracy: 0.9588 - val_loss: 0.2624 - val_accuracy: 0.9260\n",
      "Epoch 25/30\n",
      "84/84 [==============================] - 5s 54ms/step - loss: 0.1093 - accuracy: 0.9630 - val_loss: 0.2378 - val_accuracy: 0.9319\n",
      "Epoch 26/30\n",
      "84/84 [==============================] - 5s 60ms/step - loss: 0.0971 - accuracy: 0.9672 - val_loss: 0.2066 - val_accuracy: 0.9416\n",
      "Epoch 27/30\n",
      "84/84 [==============================] - 5s 55ms/step - loss: 0.0875 - accuracy: 0.9685 - val_loss: 0.2703 - val_accuracy: 0.9338\n",
      "Epoch 28/30\n",
      "84/84 [==============================] - 5s 54ms/step - loss: 0.0965 - accuracy: 0.9653 - val_loss: 0.1998 - val_accuracy: 0.9475\n",
      "Epoch 29/30\n",
      "84/84 [==============================] - 5s 55ms/step - loss: 0.0917 - accuracy: 0.9694 - val_loss: 0.2504 - val_accuracy: 0.9330\n",
      "Epoch 30/30\n",
      "84/84 [==============================] - 5s 54ms/step - loss: 0.0891 - accuracy: 0.9669 - val_loss: 0.2037 - val_accuracy: 0.9420\n"
     ]
    }
   ],
   "source": [
    "history=modelo.fit(x_train,y_train,epochs=30,batch_size=128, verbose=1, validation_data=(x_test,y_test))"
   ]
  },
  {
   "cell_type": "code",
   "execution_count": 28,
   "id": "02e74257",
   "metadata": {
    "execution": {
     "iopub.execute_input": "2023-04-04T13:19:46.511772Z",
     "iopub.status.busy": "2023-04-04T13:19:46.510368Z",
     "iopub.status.idle": "2023-04-04T13:19:46.569093Z",
     "shell.execute_reply": "2023-04-04T13:19:46.567444Z"
    },
    "papermill": {
     "duration": 0.255568,
     "end_time": "2023-04-04T13:19:46.578574",
     "exception": false,
     "start_time": "2023-04-04T13:19:46.323006",
     "status": "completed"
    },
    "tags": []
   },
   "outputs": [
    {
     "name": "stdout",
     "output_type": "stream",
     "text": [
      "Model: \"sequential\"\n",
      "_________________________________________________________________\n",
      " Layer (type)                Output Shape              Param #   \n",
      "=================================================================\n",
      " conv2d (Conv2D)             (None, 30, 30, 16)        160       \n",
      "                                                                 \n",
      " max_pooling2d (MaxPooling2D  (None, 15, 15, 16)       0         \n",
      " )                                                               \n",
      "                                                                 \n",
      " batch_normalization (BatchN  (None, 15, 15, 16)       64        \n",
      " ormalization)                                                   \n",
      "                                                                 \n",
      " conv2d_1 (Conv2D)           (None, 13, 13, 32)        4640      \n",
      "                                                                 \n",
      " max_pooling2d_1 (MaxPooling  (None, 6, 6, 32)         0         \n",
      " 2D)                                                             \n",
      "                                                                 \n",
      " conv2d_2 (Conv2D)           (None, 4, 4, 64)          18496     \n",
      "                                                                 \n",
      " max_pooling2d_2 (MaxPooling  (None, 2, 2, 64)         0         \n",
      " 2D)                                                             \n",
      "                                                                 \n",
      " flatten (Flatten)           (None, 256)               0         \n",
      "                                                                 \n",
      " dropout (Dropout)           (None, 256)               0         \n",
      "                                                                 \n",
      " dense (Dense)               (None, 512)               131584    \n",
      "                                                                 \n",
      " dropout_1 (Dropout)         (None, 512)               0         \n",
      "                                                                 \n",
      " dense_1 (Dense)             (None, 256)               131328    \n",
      "                                                                 \n",
      " dense_2 (Dense)             (None, 29)                7453      \n",
      "                                                                 \n",
      "=================================================================\n",
      "Total params: 293,725\n",
      "Trainable params: 293,693\n",
      "Non-trainable params: 32\n",
      "_________________________________________________________________\n"
     ]
    }
   ],
   "source": [
    "modelo.summary()"
   ]
  },
  {
   "cell_type": "code",
   "execution_count": 29,
   "id": "6e9fe913",
   "metadata": {
    "execution": {
     "iopub.execute_input": "2023-04-04T13:19:46.949909Z",
     "iopub.status.busy": "2023-04-04T13:19:46.949426Z",
     "iopub.status.idle": "2023-04-04T13:19:47.455254Z",
     "shell.execute_reply": "2023-04-04T13:19:47.453918Z"
    },
    "papermill": {
     "duration": 0.695572,
     "end_time": "2023-04-04T13:19:47.457982",
     "exception": false,
     "start_time": "2023-04-04T13:19:46.762410",
     "status": "completed"
    },
    "tags": []
   },
   "outputs": [
    {
     "data": {
      "image/png": "[encoded data removed]",
      "text/plain": [
       "<Figure size 640x480 with 1 Axes>"
      ]
     },
     "metadata": {},
     "output_type": "display_data"
    },
    {
     "data": {
      "image/png": "[encoded data removed]",
      "text/plain": [
       "<Figure size 640x480 with 1 Axes>"
      ]
     },
     "metadata": {},
     "output_type": "display_data"
    }
   ],
   "source": [
    "plt.plot(history.history['loss'])\n",
    "plt.plot(history.history['val_loss'])\n",
    "plt.title('model loss')\n",
    "plt.legend(['train', 'test'], loc='upper left')\n",
    "plt.ylabel('loss')\n",
    "plt.xlabel('epoch')\n",
    "plt.show()\n",
    "\n",
    "plt.figure()\n",
    "plt.plot(history.history['accuracy'])\n",
    "plt.plot(history.history['val_accuracy'])\n",
    "plt.title('model accuracy')\n",
    "plt.ylabel('accuracy')\n",
    "plt.xlabel('epoch')\n",
    "plt.legend(['train', 'test'], loc='upper left')\n",
    "plt.show()"
   ]
  },
  {
   "cell_type": "markdown",
   "id": "3196a938",
   "metadata": {
    "papermill": {
     "duration": 0.180713,
     "end_time": "2023-04-04T13:19:47.822598",
     "exception": false,
     "start_time": "2023-04-04T13:19:47.641885",
     "status": "completed"
    },
    "tags": []
   },
   "source": [
    "## put in production"
   ]
  },
  {
   "cell_type": "code",
   "execution_count": 30,
   "id": "ea8e595f",
   "metadata": {
    "execution": {
     "iopub.execute_input": "2023-04-04T13:19:48.265619Z",
     "iopub.status.busy": "2023-04-04T13:19:48.264555Z",
     "iopub.status.idle": "2023-04-04T13:19:49.302114Z",
     "shell.execute_reply": "2023-04-04T13:19:49.300597Z"
    },
    "papermill": {
     "duration": 1.300476,
     "end_time": "2023-04-04T13:19:49.305178",
     "exception": false,
     "start_time": "2023-04-04T13:19:48.004702",
     "status": "completed"
    },
    "tags": []
   },
   "outputs": [
    {
     "name": "stdout",
     "output_type": "stream",
     "text": [
      "105/105 [==============================] - 1s 7ms/step\n"
     ]
    }
   ],
   "source": [
    "x_held=X_held.reshape(n_letters_heldOut, 32, 32, 1)\n",
    "y_held_pred=modelo.predict(x_held)"
   ]
  },
  {
   "cell_type": "code",
   "execution_count": 31,
   "id": "d145296b",
   "metadata": {
    "execution": {
     "iopub.execute_input": "2023-04-04T13:19:49.674441Z",
     "iopub.status.busy": "2023-04-04T13:19:49.674043Z",
     "iopub.status.idle": "2023-04-04T13:19:49.681361Z",
     "shell.execute_reply": "2023-04-04T13:19:49.679962Z"
    },
    "papermill": {
     "duration": 0.192669,
     "end_time": "2023-04-04T13:19:49.683855",
     "exception": false,
     "start_time": "2023-04-04T13:19:49.491186",
     "status": "completed"
    },
    "tags": []
   },
   "outputs": [
    {
     "name": "stdout",
     "output_type": "stream",
     "text": [
      "(3360, 1)\n",
      "(3360,)\n"
     ]
    }
   ],
   "source": [
    "y_pred=np.argmax(y_held_pred, axis=1)\n",
    "print(y_held.shape)\n",
    "print(y_pred.shape)"
   ]
  },
  {
   "cell_type": "code",
   "execution_count": 32,
   "id": "ea9b2170",
   "metadata": {
    "execution": {
     "iopub.execute_input": "2023-04-04T13:19:50.047405Z",
     "iopub.status.busy": "2023-04-04T13:19:50.046977Z",
     "iopub.status.idle": "2023-04-04T13:19:50.054463Z",
     "shell.execute_reply": "2023-04-04T13:19:50.053452Z"
    },
    "papermill": {
     "duration": 0.191525,
     "end_time": "2023-04-04T13:19:50.056753",
     "exception": false,
     "start_time": "2023-04-04T13:19:49.865228",
     "status": "completed"
    },
    "tags": []
   },
   "outputs": [
    {
     "name": "stdout",
     "output_type": "stream",
     "text": [
      "0.9491071428571428\n"
     ]
    }
   ],
   "source": [
    "from sklearn.metrics import accuracy_score\n",
    "print(accuracy_score(y_pred, y_held))"
   ]
  },
  {
   "cell_type": "code",
   "execution_count": 33,
   "id": "d319cb6d",
   "metadata": {
    "execution": {
     "iopub.execute_input": "2023-04-04T13:19:50.423986Z",
     "iopub.status.busy": "2023-04-04T13:19:50.422978Z",
     "iopub.status.idle": "2023-04-04T13:19:50.428677Z",
     "shell.execute_reply": "2023-04-04T13:19:50.427409Z"
    },
    "papermill": {
     "duration": 0.194037,
     "end_time": "2023-04-04T13:19:50.431004",
     "exception": false,
     "start_time": "2023-04-04T13:19:50.236967",
     "status": "completed"
    },
    "tags": []
   },
   "outputs": [],
   "source": [
    "X_held=X_held.reshape(n_letters_heldOut, 32, 32)"
   ]
  },
  {
   "cell_type": "code",
   "execution_count": 34,
   "id": "402d2c9c",
   "metadata": {
    "execution": {
     "iopub.execute_input": "2023-04-04T13:19:50.801906Z",
     "iopub.status.busy": "2023-04-04T13:19:50.801040Z",
     "iopub.status.idle": "2023-04-04T13:19:51.047480Z",
     "shell.execute_reply": "2023-04-04T13:19:51.046526Z"
    },
    "papermill": {
     "duration": 0.435381,
     "end_time": "2023-04-04T13:19:51.050130",
     "exception": false,
     "start_time": "2023-04-04T13:19:50.614749",
     "status": "completed"
    },
    "tags": []
   },
   "outputs": [
    {
     "data": {
      "image/png": "[encoded data removed]",
      "text/plain": [
       "<Figure size 600x600 with 1 Axes>"
      ]
     },
     "metadata": {},
     "output_type": "display_data"
    }
   ],
   "source": [
    "idx_imagen = np.random.randint(0, n_letters_heldOut)\n",
    "plt.figure(figsize = (6,6))\n",
    "plt.title(\"It's character \"+ str(y_held[idx_imagen,0]) + \"  /  It's tagged then \" + str(y_pred[idx_imagen]))\n",
    "\n",
    "img=X_held[idx_imagen, :, :]\n",
    "\n",
    "plt.imshow(img.T)\n",
    "plt.show()"
   ]
  }
 ],
 "metadata": {
  "kernelspec": {
   "display_name": "Python 3 (ipykernel)",
   "language": "python",
   "name": "python3"
  },
  "language_info": {
   "codemirror_mode": {
    "name": "ipython",
    "version": 3
   },
   "file_extension": ".py",
   "mimetype": "text/x-python",
   "name": "python",
   "nbconvert_exporter": "python",
   "pygments_lexer": "ipython3",
   "version": "3.9.16"
  },
  "papermill": {
   "default_parameters": {},
   "duration": 229.061397,
   "end_time": "2023-04-04T13:19:54.452172",
   "environment_variables": {},
   "exception": null,
   "input_path": "__notebook__.ipynb",
   "output_path": "__notebook__.ipynb",
   "parameters": {},
   "start_time": "2023-04-04T13:16:05.390775",
   "version": "2.4.0"
  }
 },
 "nbformat": 4,
 "nbformat_minor": 5
}
