{
  "cells": [
    {
      "cell_type": "code",
      "execution_count": 1,
      "metadata": {
        "colab": {
          "base_uri": "https://localhost:8080/",
          "height": 1000
        },
        "id": "XgM65WzV_RzM",
        "outputId": "b6f43480-aae5-4853-8dae-c682a0fb189d"
      },
      "outputs": [
        {
          "name": "stdout",
          "output_type": "stream",
          "text": [
            "Defaulting to user installation because normal site-packages is not writeable\n",
            "Collecting roboflow\n",
            "  Downloading roboflow-1.0.8-py3-none-any.whl (56 kB)\n",
            "     ---------------------------------------- 0.0/56.3 kB ? eta -:--:--\n",
            "     --------------------- ------------------ 30.7/56.3 kB 1.3 MB/s eta 0:00:01\n",
            "     --------------------- ------------------ 30.7/56.3 kB 1.3 MB/s eta 0:00:01\n",
            "     -------------------------------------- 56.3/56.3 kB 418.6 kB/s eta 0:00:00\n",
            "Requirement already satisfied: matplotlib in c:\\programdata\\anaconda3\\envs\\gp\\lib\\site-packages (from roboflow) (3.7.1)\n",
            "Collecting cycler==0.10.0\n",
            "  Downloading cycler-0.10.0-py2.py3-none-any.whl (6.5 kB)\n",
            "Requirement already satisfied: kiwisolver>=1.3.1 in c:\\programdata\\anaconda3\\envs\\gp\\lib\\site-packages (from roboflow) (1.4.4)\n",
            "Collecting wget\n",
            "  Using cached wget-3.2.zip (10 kB)\n",
            "  Preparing metadata (setup.py): started\n",
            "  Preparing metadata (setup.py): finished with status 'done'\n",
            "Requirement already satisfied: certifi==2022.12.7 in c:\\programdata\\anaconda3\\envs\\gp\\lib\\site-packages (from roboflow) (2022.12.7)\n",
            "Collecting python-dotenv\n",
            "  Downloading python_dotenv-1.0.0-py3-none-any.whl (19 kB)\n",
            "Requirement already satisfied: Pillow>=7.1.2 in c:\\programdata\\anaconda3\\envs\\gp\\lib\\site-packages (from roboflow) (9.5.0)\n",
            "Requirement already satisfied: six in c:\\programdata\\anaconda3\\envs\\gp\\lib\\site-packages (from roboflow) (1.16.0)\n",
            "Requirement already satisfied: PyYAML>=5.3.1 in c:\\programdata\\anaconda3\\envs\\gp\\lib\\site-packages (from roboflow) (5.4.1)\n",
            "Requirement already satisfied: requests in c:\\programdata\\anaconda3\\envs\\gp\\lib\\site-packages (from roboflow) (2.29.0)\n",
            "Requirement already satisfied: opencv-python>=4.1.2 in c:\\programdata\\anaconda3\\envs\\gp\\lib\\site-packages (from roboflow) (4.7.0.72)\n",
            "Requirement already satisfied: urllib3>=1.26.6 in c:\\programdata\\anaconda3\\envs\\gp\\lib\\site-packages (from roboflow) (1.26.15)\n",
            "Requirement already satisfied: tqdm>=4.41.0 in c:\\programdata\\anaconda3\\envs\\gp\\lib\\site-packages (from roboflow) (4.65.0)\n",
            "Collecting chardet==4.0.0\n",
            "  Downloading chardet-4.0.0-py2.py3-none-any.whl (178 kB)\n",
            "     ---------------------------------------- 0.0/178.7 kB ? eta -:--:--\n",
            "     ------ -------------------------------- 30.7/178.7 kB 1.4 MB/s eta 0:00:01\n",
            "     ------------ ------------------------ 61.4/178.7 kB 825.8 kB/s eta 0:00:01\n",
            "     ---------------------- ------------- 112.6/178.7 kB 939.4 kB/s eta 0:00:01\n",
            "     ------------------------------ ----- 153.6/178.7 kB 919.0 kB/s eta 0:00:01\n",
            "     ------------------------------------ 178.7/178.7 kB 901.1 kB/s eta 0:00:00\n",
            "Collecting requests-toolbelt\n",
            "  Downloading requests_toolbelt-1.0.0-py2.py3-none-any.whl (54 kB)\n",
            "     ---------------------------------------- 0.0/54.5 kB ? eta -:--:--\n",
            "     ---------------------------- --------- 41.0/54.5 kB 991.0 kB/s eta 0:00:01\n",
            "     ---------------------------------------- 54.5/54.5 kB 1.4 MB/s eta 0:00:00\n",
            "Requirement already satisfied: python-dateutil in c:\\programdata\\anaconda3\\envs\\gp\\lib\\site-packages (from roboflow) (2.8.2)\n",
            "Collecting idna==2.10\n",
            "  Downloading idna-2.10-py2.py3-none-any.whl (58 kB)\n",
            "     ---------------------------------------- 0.0/58.8 kB ? eta -:--:--\n",
            "     -------------------------- ----------- 41.0/58.8 kB 991.0 kB/s eta 0:00:01\n",
            "     ---------------------------------------- 58.8/58.8 kB 1.0 MB/s eta 0:00:00\n",
            "Requirement already satisfied: numpy>=1.18.5 in c:\\programdata\\anaconda3\\envs\\gp\\lib\\site-packages (from roboflow) (1.24.3)\n",
            "Collecting pyparsing==2.4.7\n",
            "  Downloading pyparsing-2.4.7-py2.py3-none-any.whl (67 kB)\n",
            "     ---------------------------------------- 0.0/67.8 kB ? eta -:--:--\n",
            "     ------------------------ --------------- 41.0/67.8 kB 1.9 MB/s eta 0:00:01\n",
            "     ---------------------------------------- 67.8/67.8 kB 1.2 MB/s eta 0:00:00\n",
            "Requirement already satisfied: colorama in c:\\programdata\\anaconda3\\envs\\gp\\lib\\site-packages (from tqdm>=4.41.0->roboflow) (0.4.6)\n",
            "Requirement already satisfied: packaging>=20.0 in c:\\programdata\\anaconda3\\envs\\gp\\lib\\site-packages (from matplotlib->roboflow) (23.0)\n",
            "Requirement already satisfied: fonttools>=4.22.0 in c:\\programdata\\anaconda3\\envs\\gp\\lib\\site-packages (from matplotlib->roboflow) (4.39.3)\n",
            "Requirement already satisfied: contourpy>=1.0.1 in c:\\programdata\\anaconda3\\envs\\gp\\lib\\site-packages (from matplotlib->roboflow) (1.0.7)\n",
            "Requirement already satisfied: charset-normalizer<4,>=2 in c:\\programdata\\anaconda3\\envs\\gp\\lib\\site-packages (from requests->roboflow) (2.0.4)\n",
            "Building wheels for collected packages: wget\n",
            "  Building wheel for wget (setup.py): started\n",
            "  Building wheel for wget (setup.py): finished with status 'done'\n",
            "  Created wheel for wget: filename=wget-3.2-py3-none-any.whl size=9680 sha256=8c202c5ed33fa327f9c180a2e7531f74adf7b3bc4cc2ae72d3b4e44272740e55\n",
            "  Stored in directory: c:\\users\\mahmo\\appdata\\local\\pip\\cache\\wheels\\8b\\f1\\7f\\5c94f0a7a505ca1c81cd1d9208ae2064675d97582078e6c769\n",
            "Successfully built wget\n",
            "Installing collected packages: wget, python-dotenv, pyparsing, idna, cycler, chardet, requests-toolbelt, roboflow\n",
            "Successfully installed chardet-4.0.0 cycler-0.10.0 idna-2.10 pyparsing-2.4.7 python-dotenv-1.0.0 requests-toolbelt-1.0.0 roboflow-1.0.8 wget-3.2\n"
          ]
        },
        {
          "name": "stderr",
          "output_type": "stream",
          "text": [
            "  WARNING: The script dotenv.exe is installed in 'C:\\Users\\mahmo\\AppData\\Roaming\\Python\\Python310\\Scripts' which is not on PATH.\n",
            "  Consider adding this directory to PATH or, if you prefer to suppress this warning, use --no-warn-script-location.\n",
            "  WARNING: The script chardetect.exe is installed in 'C:\\Users\\mahmo\\AppData\\Roaming\\Python\\Python310\\Scripts' which is not on PATH.\n",
            "  Consider adding this directory to PATH or, if you prefer to suppress this warning, use --no-warn-script-location.\n"
          ]
        }
      ],
      "source": [
        "!pip install roboflow"
      ]
    },
    {
      "cell_type": "code",
      "execution_count": 7,
      "metadata": {
        "id": "Sj0-xSvXrYHi"
      },
      "outputs": [],
      "source": [
        "from roboflow import Roboflow\n",
        "import json\n",
        "from Labels import labels"
      ]
    },
    {
      "cell_type": "code",
      "execution_count": 8,
      "metadata": {
        "colab": {
          "base_uri": "https://localhost:8080/"
        },
        "id": "_fbwSVrZ_Tmy",
        "outputId": "f04064d7-0786-4527-c9c3-dceb4afb953f"
      },
      "outputs": [
        {
          "name": "stdout",
          "output_type": "stream",
          "text": [
            "loading Roboflow workspace...\n",
            "loading Roboflow project...\n"
          ]
        }
      ],
      "source": [
        "rf = Roboflow(api_key=\"mAx8l6o3PPZKYQReFKQg\")\n",
        "project = rf.workspace().project(\"car-plates-jvked\")\n",
        "model = project.version(4).model"
      ]
    },
    {
      "cell_type": "code",
      "execution_count": 21,
      "metadata": {
        "id": "yDQzFFDX_XnC"
      },
      "outputs": [],
      "source": [
        "y_hat= model.predict(\"./codes/workspace/images/plates/IMG3.jpg\", confidence=30, overlap=30).json()\n",
        "\n",
        "# visualize prediction\n",
        "# model.predict(\"/content/drive/MyDrive/plates/IMG-20230425-WA000.jpg\", confidence=11, overlap=40).save(\"/content/prediction.jpg\")"
      ]
    },
    {
      "cell_type": "code",
      "execution_count": 22,
      "metadata": {
        "id": "k_ciW87zqpqK"
      },
      "outputs": [],
      "source": [
        "# extract the list of predictions\n",
        "predictions = y_hat['predictions']\n",
        "\n",
        "# sort the predictions based on the `x` coordinate of each bounding box\n",
        "predictions_sorted = sorted(predictions, key=lambda x: x['x'],reverse=True)"
      ]
    },
    {
      "cell_type": "code",
      "execution_count": 23,
      "metadata": {
        "colab": {
          "base_uri": "https://localhost:8080/"
        },
        "id": "3iOB_FSP1eVf",
        "outputId": "d58786c2-40ac-4d34-967b-2fc32f700722"
      },
      "outputs": [
        {
          "name": "stdout",
          "output_type": "stream",
          "text": [
            "س ص ن ٥ ٩ "
          ]
        }
      ],
      "source": [
        "for i in range(len(predictions_sorted)):\n",
        "  print(labels.get(predictions_sorted[i]['class']),end=' ')"
      ]
    },
    {
      "cell_type": "code",
      "execution_count": null,
      "metadata": {
        "id": "ZQ0ttTAi2egc"
      },
      "outputs": [],
      "source": []
    }
  ],
  "metadata": {
    "colab": {
      "provenance": []
    },
    "kernelspec": {
      "display_name": "Python 3",
      "name": "python3"
    },
    "language_info": {
      "codemirror_mode": {
        "name": "ipython",
        "version": 3
      },
      "file_extension": ".py",
      "mimetype": "text/x-python",
      "name": "python",
      "nbconvert_exporter": "python",
      "pygments_lexer": "ipython3",
      "version": "3.10.11"
    }
  },
  "nbformat": 4,
  "nbformat_minor": 0
}
