{
  "cells": [
    {
      "cell_type": "code",
      "execution_count": 1,
      "metadata": {
        "colab": {
          "base_uri": "https://localhost:8080/",
          "height": 1000
        },
        "id": "XgM65WzV_RzM",
        "outputId": "b6f43480-aae5-4853-8dae-c682a0fb189d"
      },
      "outputs": [
        {
          "name": "stdout",
          "output_type": "stream",
          "text": [
            "Collecting roboflow\n",
            "  Downloading roboflow-1.0.5-py3-none-any.whl (56 kB)\n",
            "     -------------------------------------- 56.2/56.2 kB 977.7 kB/s eta 0:00:00\n",
            "Requirement already satisfied: certifi==2022.12.7 in c:\\users\\mahran\\anaconda3\\envs\\newenv\\lib\\site-packages (from roboflow) (2022.12.7)\n",
            "Collecting pyparsing==2.4.7\n",
            "  Using cached pyparsing-2.4.7-py2.py3-none-any.whl (67 kB)\n",
            "Requirement already satisfied: urllib3>=1.26.6 in c:\\users\\mahran\\anaconda3\\envs\\newenv\\lib\\site-packages (from roboflow) (1.26.15)\n",
            "Requirement already satisfied: python-dateutil in c:\\users\\mahran\\anaconda3\\envs\\newenv\\lib\\site-packages (from roboflow) (2.8.2)\n",
            "Requirement already satisfied: numpy>=1.18.5 in c:\\users\\mahran\\anaconda3\\envs\\newenv\\lib\\site-packages (from roboflow) (1.24.3)\n",
            "Requirement already satisfied: PyYAML>=5.3.1 in c:\\users\\mahran\\anaconda3\\envs\\newenv\\lib\\site-packages (from roboflow) (5.4.1)\n",
            "Collecting requests-toolbelt\n",
            "  Downloading requests_toolbelt-0.10.1-py2.py3-none-any.whl (54 kB)\n",
            "     -------------------------------------- 54.5/54.5 kB 962.7 kB/s eta 0:00:00\n",
            "Collecting wget\n",
            "  Downloading wget-3.2.zip (10 kB)\n",
            "  Preparing metadata (setup.py): started\n",
            "  Preparing metadata (setup.py): finished with status 'done'\n",
            "Collecting idna==2.10\n",
            "  Using cached idna-2.10-py2.py3-none-any.whl (58 kB)\n",
            "Requirement already satisfied: Pillow>=7.1.2 in c:\\users\\mahran\\anaconda3\\envs\\newenv\\lib\\site-packages (from roboflow) (9.5.0)\n",
            "Collecting cycler==0.10.0\n",
            "  Using cached cycler-0.10.0-py2.py3-none-any.whl (6.5 kB)\n",
            "Requirement already satisfied: opencv-python>=4.1.2 in c:\\users\\mahran\\anaconda3\\envs\\newenv\\lib\\site-packages (from roboflow) (4.6.0.66)\n",
            "Requirement already satisfied: matplotlib in c:\\users\\mahran\\anaconda3\\envs\\newenv\\lib\\site-packages (from roboflow) (3.7.1)\n",
            "Requirement already satisfied: tqdm>=4.41.0 in c:\\users\\mahran\\anaconda3\\envs\\newenv\\lib\\site-packages (from roboflow) (4.65.0)\n",
            "Collecting chardet==4.0.0\n",
            "  Downloading chardet-4.0.0-py2.py3-none-any.whl (178 kB)\n",
            "     -------------------------------------- 178.7/178.7 kB 2.7 MB/s eta 0:00:00\n",
            "Requirement already satisfied: kiwisolver>=1.3.1 in c:\\users\\mahran\\anaconda3\\envs\\newenv\\lib\\site-packages (from roboflow) (1.4.4)\n",
            "Collecting python-dotenv\n",
            "  Downloading python_dotenv-1.0.0-py3-none-any.whl (19 kB)\n",
            "Requirement already satisfied: six in c:\\users\\mahran\\anaconda3\\envs\\newenv\\lib\\site-packages (from roboflow) (1.16.0)\n",
            "Requirement already satisfied: requests in c:\\users\\mahran\\anaconda3\\envs\\newenv\\lib\\site-packages (from roboflow) (2.29.0)\n",
            "Requirement already satisfied: colorama in c:\\users\\mahran\\anaconda3\\envs\\newenv\\lib\\site-packages (from tqdm>=4.41.0->roboflow) (0.4.6)\n",
            "Requirement already satisfied: fonttools>=4.22.0 in c:\\users\\mahran\\anaconda3\\envs\\newenv\\lib\\site-packages (from matplotlib->roboflow) (4.39.3)\n",
            "Requirement already satisfied: contourpy>=1.0.1 in c:\\users\\mahran\\anaconda3\\envs\\newenv\\lib\\site-packages (from matplotlib->roboflow) (1.0.7)\n",
            "Requirement already satisfied: packaging>=20.0 in c:\\users\\mahran\\anaconda3\\envs\\newenv\\lib\\site-packages (from matplotlib->roboflow) (23.0)\n",
            "Requirement already satisfied: importlib-resources>=3.2.0 in c:\\users\\mahran\\anaconda3\\envs\\newenv\\lib\\site-packages (from matplotlib->roboflow) (5.12.0)\n",
            "Requirement already satisfied: charset-normalizer<4,>=2 in c:\\users\\mahran\\anaconda3\\envs\\newenv\\lib\\site-packages (from requests->roboflow) (3.1.0)\n",
            "Requirement already satisfied: zipp>=3.1.0 in c:\\users\\mahran\\anaconda3\\envs\\newenv\\lib\\site-packages (from importlib-resources>=3.2.0->matplotlib->roboflow) (3.11.0)\n",
            "Building wheels for collected packages: wget\n",
            "  Building wheel for wget (setup.py): started\n",
            "  Building wheel for wget (setup.py): finished with status 'done'\n",
            "  Created wheel for wget: filename=wget-3.2-py3-none-any.whl size=9680 sha256=47c728bcb017959882f30d068bf0024f5d60c229135c39576802bd6d0b8bb317\n",
            "  Stored in directory: c:\\users\\mahran\\appdata\\local\\pip\\cache\\wheels\\04\\5f\\3e\\46cc37c5d698415694d83f607f833f83f0149e49b3af9d0f38\n",
            "Successfully built wget\n",
            "Installing collected packages: wget, python-dotenv, pyparsing, idna, cycler, chardet, requests-toolbelt, roboflow\n",
            "  Attempting uninstall: pyparsing\n",
            "    Found existing installation: pyparsing 3.0.9\n",
            "    Uninstalling pyparsing-3.0.9:\n",
            "      Successfully uninstalled pyparsing-3.0.9\n",
            "  Attempting uninstall: idna\n",
            "    Found existing installation: idna 3.4\n",
            "    Uninstalling idna-3.4:\n",
            "      Successfully uninstalled idna-3.4\n",
            "  Attempting uninstall: cycler\n",
            "    Found existing installation: cycler 0.11.0\n",
            "    Uninstalling cycler-0.11.0:\n",
            "      Successfully uninstalled cycler-0.11.0\n",
            "  Attempting uninstall: chardet\n",
            "    Found existing installation: chardet 5.1.0\n",
            "    Uninstalling chardet-5.1.0:\n",
            "      Successfully uninstalled chardet-5.1.0\n",
            "Successfully installed chardet-4.0.0 cycler-0.10.0 idna-2.10 pyparsing-2.4.7 python-dotenv-1.0.0 requests-toolbelt-0.10.1 roboflow-1.0.5 wget-3.2\n"
          ]
        },
        {
          "name": "stderr",
          "output_type": "stream",
          "text": [
            "WARNING: Ignoring invalid distribution -rotobuf (c:\\users\\mahran\\anaconda3\\envs\\newenv\\lib\\site-packages)\n",
            "WARNING: Ignoring invalid distribution -rotobuf (c:\\users\\mahran\\anaconda3\\envs\\newenv\\lib\\site-packages)\n",
            "WARNING: Ignoring invalid distribution -rotobuf (c:\\users\\mahran\\anaconda3\\envs\\newenv\\lib\\site-packages)\n",
            "    WARNING: Ignoring invalid distribution -rotobuf (c:\\users\\mahran\\anaconda3\\envs\\newenv\\lib\\site-packages)\n",
            "    WARNING: Ignoring invalid distribution -rotobuf (c:\\users\\mahran\\anaconda3\\envs\\newenv\\lib\\site-packages)\n",
            "    WARNING: Ignoring invalid distribution -rotobuf (c:\\users\\mahran\\anaconda3\\envs\\newenv\\lib\\site-packages)\n",
            "    WARNING: Ignoring invalid distribution -rotobuf (c:\\users\\mahran\\anaconda3\\envs\\newenv\\lib\\site-packages)\n",
            "WARNING: Ignoring invalid distribution -rotobuf (c:\\users\\mahran\\anaconda3\\envs\\newenv\\lib\\site-packages)\n",
            "WARNING: Ignoring invalid distribution -rotobuf (c:\\users\\mahran\\anaconda3\\envs\\newenv\\lib\\site-packages)\n",
            "WARNING: Ignoring invalid distribution -rotobuf (c:\\users\\mahran\\anaconda3\\envs\\newenv\\lib\\site-packages)\n",
            "WARNING: Ignoring invalid distribution -rotobuf (c:\\users\\mahran\\anaconda3\\envs\\newenv\\lib\\site-packages)\n",
            "WARNING: Ignoring invalid distribution -rotobuf (c:\\users\\mahran\\anaconda3\\envs\\newenv\\lib\\site-packages)\n",
            "WARNING: Ignoring invalid distribution -rotobuf (c:\\users\\mahran\\anaconda3\\envs\\newenv\\lib\\site-packages)\n",
            "WARNING: Ignoring invalid distribution -rotobuf (c:\\users\\mahran\\anaconda3\\envs\\newenv\\lib\\site-packages)\n",
            "WARNING: Ignoring invalid distribution -rotobuf (c:\\users\\mahran\\anaconda3\\envs\\newenv\\lib\\site-packages)\n",
            "ERROR: pip's dependency resolver does not currently take into account all the packages that are installed. This behaviour is the source of the following dependency conflicts.\n",
            "paddlepaddle 2.4.2 requires protobuf<=3.20.0,>=3.1.0, but you have protobuf 3.20.3 which is incompatible.\n",
            "WARNING: Ignoring invalid distribution -rotobuf (c:\\users\\mahran\\anaconda3\\envs\\newenv\\lib\\site-packages)\n",
            "WARNING: Ignoring invalid distribution -rotobuf (c:\\users\\mahran\\anaconda3\\envs\\newenv\\lib\\site-packages)\n",
            "WARNING: Ignoring invalid distribution -rotobuf (c:\\users\\mahran\\anaconda3\\envs\\newenv\\lib\\site-packages)\n"
          ]
        }
      ],
      "source": [
        "!pip install roboflow"
      ]
    },
    {
      "cell_type": "code",
      "execution_count": 9,
      "metadata": {
        "id": "Sj0-xSvXrYHi"
      },
      "outputs": [],
      "source": [
        "from roboflow import Roboflow\n",
        "import json"
      ]
    },
    {
      "cell_type": "code",
      "execution_count": 2,
      "metadata": {
        "colab": {
          "base_uri": "https://localhost:8080/"
        },
        "id": "_fbwSVrZ_Tmy",
        "outputId": "f04064d7-0786-4527-c9c3-dceb4afb953f"
      },
      "outputs": [
        {
          "name": "stdout",
          "output_type": "stream",
          "text": [
            "loading Roboflow workspace...\n",
            "loading Roboflow project...\n"
          ]
        }
      ],
      "source": [
        "rf = Roboflow(api_key=\"mAx8l6o3PPZKYQReFKQg\")\n",
        "project = rf.workspace().project(\"car-plates-jvked\")\n",
        "model = project.version(3).model"
      ]
    },
    {
      "cell_type": "code",
      "execution_count": 29,
      "metadata": {
        "id": "yDQzFFDX_XnC"
      },
      "outputs": [],
      "source": [
        "y_hat= model.predict(\"/content/drive/MyDrive/plates/IMG-20230425-WA003.jpg\", confidence=11, overlap=40).json()\n",
        "\n",
        "# visualize prediction\n",
        "# model.predict(\"/content/drive/MyDrive/plates/IMG-20230425-WA000.jpg\", confidence=11, overlap=40).save(\"/content/prediction.jpg\")"
      ]
    },
    {
      "cell_type": "code",
      "execution_count": 30,
      "metadata": {
        "id": "k_ciW87zqpqK"
      },
      "outputs": [],
      "source": [
        "# extract the list of predictions\n",
        "predictions = y_hat['predictions']\n",
        "\n",
        "# sort the predictions based on the `x` coordinate of each bounding box\n",
        "predictions_sorted = sorted(predictions, key=lambda x: x['x'],reverse=True)"
      ]
    },
    {
      "cell_type": "code",
      "execution_count": 31,
      "metadata": {
        "colab": {
          "base_uri": "https://localhost:8080/"
        },
        "id": "3iOB_FSP1eVf",
        "outputId": "d58786c2-40ac-4d34-967b-2fc32f700722"
      },
      "outputs": [
        {
          "name": "stdout",
          "output_type": "stream",
          "text": [
            "ن ٥ ر ١ "
          ]
        }
      ],
      "source": [
        "for i in range(len(predictions_sorted)):\n",
        "  print(labels.get(predictions_sorted[i]['class']),end=' ')"
      ]
    },
    {
      "cell_type": "code",
      "execution_count": null,
      "metadata": {
        "id": "ZQ0ttTAi2egc"
      },
      "outputs": [],
      "source": []
    }
  ],
  "metadata": {
    "colab": {
      "provenance": []
    },
    "kernelspec": {
      "display_name": "Python 3",
      "name": "python3"
    },
    "language_info": {
      "codemirror_mode": {
        "name": "ipython",
        "version": 3
      },
      "file_extension": ".py",
      "mimetype": "text/x-python",
      "name": "python",
      "nbconvert_exporter": "python",
      "pygments_lexer": "ipython3",
      "version": "3.9.16"
    }
  },
  "nbformat": 4,
  "nbformat_minor": 0
}
