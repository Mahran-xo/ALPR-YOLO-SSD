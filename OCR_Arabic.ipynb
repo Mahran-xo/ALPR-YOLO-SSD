{
 "cells": [
  {
   "attachments": {},
   "cell_type": "markdown",
   "id": "9b4b3fff",
   "metadata": {},
   "source": [
    "# 1. Path Setups"
   ]
  },
  {
   "cell_type": "code",
   "execution_count": 4,
   "id": "f3540a65",
   "metadata": {},
   "outputs": [],
   "source": [
    "import os\n",
    "import glob\n",
    "import cv2 \n",
    "import time\n",
    "import base64\n",
    "import requests\n",
    "import numpy as np\n",
    "import matplotlib.pyplot as plt\n",
    "\n",
    "from tqdm import tqdm\n",
    "from PIL import Image, ImageDraw, ImageFont, ImageFilter\n",
    "from roboflow import Roboflow\n",
    "import json\n",
    "from Labels import labels\n",
    "from IPython.display import clear_output\n",
    "import warnings\n",
    "\n",
    "warnings.filterwarnings('ignore')"
   ]
  },
  {
   "cell_type": "code",
   "execution_count": 3,
   "id": "e745b86d",
   "metadata": {},
   "outputs": [
    {
     "name": "stdout",
     "output_type": "stream",
     "text": [
      "Defaulting to user installation because normal site-packages is not writeable\n",
      "Requirement already satisfied: matplotlib in c:\\programdata\\anaconda3\\envs\\gp\\lib\\site-packages (3.7.1)\n",
      "Requirement already satisfied: contourpy>=1.0.1 in c:\\programdata\\anaconda3\\envs\\gp\\lib\\site-packages (from matplotlib) (1.0.7)\n",
      "Requirement already satisfied: pyparsing>=2.3.1 in c:\\users\\mahmo\\appdata\\roaming\\python\\python310\\site-packages (from matplotlib) (2.4.7)\n",
      "Requirement already satisfied: python-dateutil>=2.7 in c:\\programdata\\anaconda3\\envs\\gp\\lib\\site-packages (from matplotlib) (2.8.2)\n",
      "Requirement already satisfied: kiwisolver>=1.0.1 in c:\\programdata\\anaconda3\\envs\\gp\\lib\\site-packages (from matplotlib) (1.4.4)\n",
      "Requirement already satisfied: fonttools>=4.22.0 in c:\\programdata\\anaconda3\\envs\\gp\\lib\\site-packages (from matplotlib) (4.39.3)\n",
      "Requirement already satisfied: packaging>=20.0 in c:\\programdata\\anaconda3\\envs\\gp\\lib\\site-packages (from matplotlib) (23.0)\n",
      "Requirement already satisfied: cycler>=0.10 in c:\\users\\mahmo\\appdata\\roaming\\python\\python310\\site-packages (from matplotlib) (0.10.0)\n",
      "Requirement already satisfied: numpy>=1.20 in c:\\programdata\\anaconda3\\envs\\gp\\lib\\site-packages (from matplotlib) (1.24.3)\n",
      "Requirement already satisfied: pillow>=6.2.0 in c:\\programdata\\anaconda3\\envs\\gp\\lib\\site-packages (from matplotlib) (9.5.0)\n",
      "Requirement already satisfied: six in c:\\programdata\\anaconda3\\envs\\gp\\lib\\site-packages (from cycler>=0.10->matplotlib) (1.16.0)\n"
     ]
    }
   ],
   "source": [
    "!pip install matplotlib\n"
   ]
  },
  {
   "cell_type": "code",
   "execution_count": 5,
   "id": "83316529",
   "metadata": {},
   "outputs": [],
   "source": [
    "ROBOFLOW_API_KEY = \"mAx8l6o3PPZKYQReFKQg\"\n",
    "ROBOFLOW_MODEL = \"car-plates-jvked/3\"\n",
    "ROBOFLOW_SIZE = 416"
   ]
  },
  {
   "cell_type": "code",
   "execution_count": 6,
   "id": "cd2bebf7",
   "metadata": {},
   "outputs": [],
   "source": [
    "paths = {\n",
    "    'IMAGE_PATH': os.path.join('codes', 'workspace','images'),\n",
    " }"
   ]
  },
  {
   "attachments": {},
   "cell_type": "markdown",
   "id": "89b4e112",
   "metadata": {},
   "source": [
    "# 2. Image Preprocessing and Number Plate Recognition With YOLOv8 From RoboFlow"
   ]
  },
  {
   "cell_type": "code",
   "execution_count": 32,
   "id": "621b860d",
   "metadata": {},
   "outputs": [
    {
     "name": "stdout",
     "output_type": "stream",
     "text": [
      "loading Roboflow workspace...\n",
      "loading Roboflow project...\n"
     ]
    }
   ],
   "source": [
    "rf = Roboflow(api_key=ROBOFLOW_API_KEY)\n",
    "project = rf.workspace().project(\"car-plates-jvked\")\n",
    "model = project.version(4).model"
   ]
  },
  {
   "cell_type": "code",
   "execution_count": 39,
   "id": "0bf91ec1",
   "metadata": {},
   "outputs": [],
   "source": [
    "ORIGINAL_IMAGE_PATH = os.path.join(paths['IMAGE_PATH'], 'plates', '*ers.jpg')\n",
    "ORIGINAL_IMAGE_PATH = os.path.join(paths['IMAGE_PATH'], 'plates')\n",
    "origina_image_paths = list(glob.glob(ORIGINAL_IMAGE_PATH))"
   ]
  },
  {
   "cell_type": "code",
   "execution_count": 40,
   "id": "029e7be1",
   "metadata": {},
   "outputs": [
    {
     "data": {
      "text/plain": [
       "['codes\\\\workspace\\\\images\\\\plates\\\\IMG1.jpg',\n",
       " 'codes\\\\workspace\\\\images\\\\plates\\\\IMG2.jpg',\n",
       " 'codes\\\\workspace\\\\images\\\\plates\\\\IMG3.jpg',\n",
       " 'codes\\\\workspace\\\\images\\\\plates\\\\IMG4.jpg',\n",
       " 'codes\\\\workspace\\\\images\\\\plates\\\\IMG5.jpg']"
      ]
     },
     "execution_count": 40,
     "metadata": {},
     "output_type": "execute_result"
    }
   ],
   "source": [
    "IMAGE_PATH = os.path.join(paths['IMAGE_PATH'], 'plates', '*.jpg')\n",
    "images_path= list(glob.glob(IMAGE_PATH))\n",
    "# images_path[-3:-1]\n",
    "# images_path = images_path[-3:-2]\n",
    "images_path"
   ]
  },
  {
   "cell_type": "code",
   "execution_count": 41,
   "id": "1611e093",
   "metadata": {},
   "outputs": [
    {
     "name": "stdout",
     "output_type": "stream",
     "text": [
      "There are 5 images in the plates dataset\n"
     ]
    }
   ],
   "source": [
    "print(f'There are {len(images_path):,} images in the plates dataset')"
   ]
  },
  {
   "cell_type": "code",
   "execution_count": 42,
   "id": "2f6b2e79",
   "metadata": {
    "scrolled": true
   },
   "outputs": [
    {
     "name": "stderr",
     "output_type": "stream",
     "text": [
      "5it [00:05,  1.01s/it]\n"
     ]
    },
    {
     "name": "stdout",
     "output_type": "stream",
     "text": [
      "س ق "
     ]
    },
    {
     "data": {
      "image/png": "[encoded data removed]",
      "text/plain": [
       "<Figure size 640x480 with 1 Axes>"
      ]
     },
     "metadata": {},
     "output_type": "display_data"
    }
   ],
   "source": [
    "for i, image in tqdm(enumerate(images_path)):\n",
    "    img = cv2.imread(images_path[i])\n",
    "    # img_scaled = cv2.resize(img, None, fx=4, fy=4, interpolation = cv2.INTER_LANCZOS4)\n",
    "    gray_image = cv2.cvtColor(img, cv2.COLOR_BGR2GRAY)\n",
    "\n",
    "    blur = cv2.GaussianBlur(gray_image, (7,7), 0)\n",
    "\n",
    "    _, th3 = cv2.threshold(blur, 0, 255, cv2.THRESH_BINARY_INV | cv2.THRESH_OTSU)\n",
    "\n",
    "    kernel = cv2.getStructuringElement(cv2.MORPH_RECT, (3,3))\n",
    "\n",
    "    # Apply dilation to thicken the font\n",
    "    dilated = cv2.dilate(th3, kernel, iterations=1)\n",
    "\n",
    "    # Apply erosion to shrink the text regions back to their original size\n",
    "    eroded = cv2.erode(dilated, kernel, iterations=1)\n",
    "\n",
    "\n",
    "    eroded = cv2.bitwise_not(eroded)\n",
    "\n",
    "\n",
    "    y_hat= model.predict(eroded, confidence=20, overlap=10).json()\n",
    "    predictions = y_hat['predictions']\n",
    "\n",
    "\n",
    "    # sort the predictions based on the `x` coordinate of each bounding box\n",
    "    predictions_sorted = sorted(predictions, key=lambda x: x['x'],reverse=True)\n",
    "    for i in range(len(predictions_sorted)):\n",
    "        x, y, w, h = int(predictions_sorted[i]['x']), int(predictions_sorted[i]['y']), int(predictions_sorted[i]['width']), int(predictions_sorted[i]['height'])\n",
    "        x_box, y_box = x - w//2, y - h//2 # Calculate the top-left corner of the bounding box\n",
    "        cv2.rectangle(eroded, (x_box, y_box), (x_box + w, y_box + h), (0, 255, 0), 2)\n",
    "        class_text = predictions_sorted[i]['class']\n",
    "        cv2.putText(eroded, class_text, (x_box, y_box-10), cv2.FONT_HERSHEY_SIMPLEX, 0.9, (0, 255, 0), 2)\n",
    "\n",
    "    plt.imshow(eroded,cmap='gray')\n",
    "for i in range(len(predictions_sorted)):\n",
    "    print(labels.get(predictions_sorted[i]['class']),end=' ')\n",
    "    \n",
    "        "
   ]
  },
  {
   "cell_type": "code",
   "execution_count": 38,
   "id": "fe3222e7",
   "metadata": {},
   "outputs": [
    {
     "ename": "AttributeError",
     "evalue": "'NoneType' object has no attribute 'shape'",
     "output_type": "error",
     "traceback": [
      "\u001b[1;31m---------------------------------------------------------------------------\u001b[0m",
      "\u001b[1;31mAttributeError\u001b[0m                            Traceback (most recent call last)",
      "Cell \u001b[1;32mIn[38], line 49\u001b[0m\n\u001b[0;32m     46\u001b[0m     \u001b[39mbreak\u001b[39;00m\n\u001b[0;32m     48\u001b[0m \u001b[39m# Synchronously get a prediction from the Roboflow Infer API\u001b[39;00m\n\u001b[1;32m---> 49\u001b[0m image \u001b[39m=\u001b[39m infer(video)\n\u001b[0;32m     51\u001b[0m \u001b[39m# And display the inference results\u001b[39;00m\n\u001b[0;32m     52\u001b[0m cv2\u001b[39m.\u001b[39mimshow(\u001b[39m'\u001b[39m\u001b[39mimage\u001b[39m\u001b[39m'\u001b[39m, image)\n",
      "Cell \u001b[1;32mIn[38], line 21\u001b[0m, in \u001b[0;36minfer\u001b[1;34m(video)\u001b[0m\n\u001b[0;32m     18\u001b[0m ret, img \u001b[39m=\u001b[39m video\u001b[39m.\u001b[39mread()\n\u001b[0;32m     20\u001b[0m \u001b[39m# Resize (while maintaining the aspect ratio) to improve speed and save bandwidth\u001b[39;00m\n\u001b[1;32m---> 21\u001b[0m height, width, channels \u001b[39m=\u001b[39m img\u001b[39m.\u001b[39;49mshape\n\u001b[0;32m     22\u001b[0m scale \u001b[39m=\u001b[39m ROBOFLOW_SIZE \u001b[39m/\u001b[39m \u001b[39mmax\u001b[39m(height, width)\n\u001b[0;32m     23\u001b[0m img \u001b[39m=\u001b[39m cv2\u001b[39m.\u001b[39mresize(img, (\u001b[39mround\u001b[39m(scale \u001b[39m*\u001b[39m width), \u001b[39mround\u001b[39m(scale \u001b[39m*\u001b[39m height)))\n",
      "\u001b[1;31mAttributeError\u001b[0m: 'NoneType' object has no attribute 'shape'"
     ]
    }
   ],
   "source": [
    "upload_url = \"\".join([\n",
    "    \"https://detect.roboflow.com/\",\n",
    "    ROBOFLOW_MODEL,\n",
    "    \"?api_key=\",\n",
    "    ROBOFLOW_API_KEY,\n",
    "    \"&format=image\",\n",
    "    \"&stroke=5\"\n",
    "])\n",
    "\n",
    "# Get webcam interface via opencv-python\n",
    "\n",
    "video = cv2.VideoCapture(0)\n",
    "video.set(cv2.CAP_PROP_FOURCC, cv2.VideoWriter_fourcc(*\"H264\"))\n",
    "# Infer via the Roboflow Infer API and return the result\n",
    "def infer(video):\n",
    "    # Get the current image from the webcam\n",
    "    # video = cv2.VideoCapture(0, cv2.CAP_DSHOW)\n",
    "    ret, img = video.read()\n",
    "\n",
    "    # Resize (while maintaining the aspect ratio) to improve speed and save bandwidth\n",
    "    height, width, channels = img.shape\n",
    "    scale = ROBOFLOW_SIZE / max(height, width)\n",
    "    img = cv2.resize(img, (round(scale * width), round(scale * height)))\n",
    "\n",
    "    # Encode image to base64 string\n",
    "    retval, buffer = cv2.imencode('.jpg', img)\n",
    "    img_str = base64.b64encode(buffer)\n",
    "\n",
    "    # Get prediction from Roboflow Infer API\n",
    "    resp = requests.post(upload_url, data=img_str, headers={\n",
    "        \"Content-Type\": \"application/x-www-form-urlencoded\"\n",
    "    }, stream=True).raw\n",
    "\n",
    "    # Parse result image\n",
    "    image = np.asarray(bytearray(resp.read()), dtype=\"uint8\")\n",
    "    image = cv2.imdecode(image, cv2.IMREAD_COLOR)\n",
    "\n",
    "    return image\n",
    "\n",
    "# Main loop; infers sequentially until you press \"q\"\n",
    "while True:\n",
    "    start = time.time()\n",
    "    \n",
    "    # On \"q\" keypress, exit\n",
    "    if cv2.waitKey(1) == ord('q'):\n",
    "        break\n",
    "        \n",
    "    # Synchronously get a prediction from the Roboflow Infer API\n",
    "    image = infer(video)\n",
    "    \n",
    "    # And display the inference results\n",
    "    cv2.imshow('image', image)\n",
    "    \n",
    "    # Sleep for a short time to control the frame rate\n",
    "    time.sleep(0.05)\n",
    "    \n",
    "    # Print frames per second\n",
    "    print((1/(time.time()-start)), \" fps\")\n",
    "\n",
    "# Release resources when finished\n",
    "video.release()\n",
    "cv2.destroyAllWindows()\n"
   ]
  },
  {
   "cell_type": "code",
   "execution_count": null,
   "id": "de9fac6d",
   "metadata": {},
   "outputs": [],
   "source": []
  }
 ],
 "metadata": {
  "kernelspec": {
   "display_name": "GP",
   "language": "python",
   "name": "python3"
  },
  "language_info": {
   "codemirror_mode": {
    "name": "ipython",
    "version": 3
   },
   "file_extension": ".py",
   "mimetype": "text/x-python",
   "name": "python",
   "nbconvert_exporter": "python",
   "pygments_lexer": "ipython3",
   "version": "3.10.11"
  }
 },
 "nbformat": 4,
 "nbformat_minor": 5
}
